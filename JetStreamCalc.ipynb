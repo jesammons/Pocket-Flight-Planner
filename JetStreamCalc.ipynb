import numpy as np
import matplotlib.pyplot as plt
import cartopy.crs as ccrs
import cartopy.feature as cfeature
from geopy.distance import geodesic

def detect_jet_streams(lats, lons, wind_speeds, wind_directions):
    # Threshold for wind speed to consider as potential jet stream (in m/s)
    wind_speed_threshold = 50  # Adjust as needed based on typical jet stream speeds

    # Calculate wind vector components (u and v)
    u = -wind_speeds * np.sin(np.deg2rad(wind_directions))
    v = -wind_speeds * np.cos(np.deg2rad(wind_directions))

    # Calculate wind shear magnitude (change in wind speed)
    wind_shear = np.sqrt(np.diff(u, axis=0)**2 + np.diff(v, axis=0)**2)

    # Find indices where wind shear exceeds a threshold
    jet_stream_indices = np.where(wind_shear > wind_speed_threshold)[0]

    return jet_stream_indices

#Still working on it
