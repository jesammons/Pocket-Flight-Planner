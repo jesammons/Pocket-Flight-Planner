import numpy as np
import matplotlib.pyplot as plt
import cartopy.crs as ccrs
import cartopy.feature as cfeature
from geopy.distance import geodesic

############################################################################################################
def detect_jet_streams(lats, lons, wind_speeds, wind_directions):
    # Threshold for wind speed to consider as potential jet stream (in m/s)
    wind_speed_threshold = 50  # Adjust as needed based on typical jet stream speeds

    # Calculate wind vector components (u and v)
    u = -wind_speeds * np.sin(np.deg2rad(wind_directions))
    v = -wind_speeds * np.cos(np.deg2rad(wind_directions))

    # Calculate wind shear magnitude (change in wind speed)
    wind_shear = np.sqrt(np.diff(u, axis=0)**2 + np.diff(v, axis=0)**2)

    # Find indices where wind shear exceeds a threshold
    jet_stream_indices = np.where(wind_shear > wind_speed_threshold)[0]

    return jet_stream_indices

#Still working on it
############################################################################################################
#Ignore the top code

#Wind Data
def get_wind_data(latitude, longitude, api_key):
    weather_url = 'https://api.openweathermap.org/data/2.5/weather'
    params = {
        'lat': latitude,
        'lon': longitude,
        'appid': api_key,
    }
    response = requests.get(weather_url, params=params)
    if response.status_code == 200:
        data = response.json()
        wind = data.get('wind')
        if wind:
            speed = wind.get('speed', 0)
            direction = wind.get('deg', 0)
            return speed, direction
    return 0, 0  # Return default values if data retrieval fails

def calculate_intermediate_points_with_wind(departure_coordinates, arrival_coordinates, interval_miles=20, api_key=''):
    distance_miles = geodesic(departure_coordinates, arrival_coordinates).miles
    num_points = int(distance_miles / interval_miles) + 1
    lats, lons = [], []
    wind_speeds, wind_directions = [], []
    for i in range(num_points):
        fraction = i / (num_points - 1)
        intermediate_point = (
            departure_coordinates[0] + fraction * (arrival_coordinates[0] - departure_coordinates[0]),
            departure_coordinates[1] + fraction * (arrival_coordinates[1] - departure_coordinates[1])
        )
        lats.append(intermediate_point[0])
        lons.append(intermediate_point[1])
        # Retrieve wind data for the intermediate point
        wind_speed, wind_direction = get_wind_data(intermediate_point[0], intermediate_point[1], api_key)
        wind_speeds.append(wind_speed)
        wind_directions.append(wind_direction)
    return lats, lons, wind_speeds, wind_directions

def plot_flight_path_with_wind(departure_coordinates, arrival_coordinates, wind_speeds, wind_directions):
    fig = plt.figure(figsize=(10, 10))
    ax = plt.axes(projection=ccrs.PlateCarree())
    ax.coastlines()

    # Plot flight path
    ax.plot([departure_coordinates[1], arrival_coordinates[1]], [departure_coordinates[0], arrival_coordinates[0]], color='blue', linewidth=2, transform=ccrs.PlateCarree())

    # Plot wind arrows
    for lat, lon, speed, direction in zip(lats, lons, wind_speeds, wind_directions):
        dx = speed * np.sin(np.deg2rad(direction))
        dy = speed * np.cos(np.deg2rad(direction))
        ax.quiver(lon, lat, dx, dy, scale=50, color='red', transform=ccrs.PlateCarree())

    ax.set_title('Flight Path with Wind Visualization')
    plt.show()

lats, lons, wind_speeds, wind_directions = calculate_intermediate_points_with_wind(departure_coordinates, arrival_coordinates, api_key=api_key)
plot_flight_path_with_wind(departure_coordinates, arrival_coordinates, wind_speeds, wind_directions)

#Cruising Speed w/ Wind 
def calculate_intermediate_points_with_wind(departure_coordinates, arrival_coordinates, interval_miles=20, api_key=''):
    distance_miles = geodesic(departure_coordinates, arrival_coordinates).miles
    num_points = int(distance_miles / interval_miles) + 1
    lats, lons, wind_speeds, wind_directions = [], [], [], []
    for i in range(num_points):
        fraction = i / (num_points - 1)
        intermediate_point = (
            departure_coordinates[0] + fraction * (arrival_coordinates[0] - departure_coordinates[0]),
            departure_coordinates[1] + fraction * (arrival_coordinates[1] - departure_coordinates[1])
        )
        lats.append(intermediate_point[0])
        lons.append(intermediate_point[1])
        # Retrieve wind data for the intermediate point
        wind_speed, wind_direction = get_wind_data(intermediate_point[0], intermediate_point[1], api_key)
        wind_speeds.append(wind_speed)
        wind_directions.append(wind_direction)
    return lats, lons, wind_speeds, wind_directions

cruising_speed = selected_aircraft_specs['Cruise Speed (km/h)']  # Cruising speed in km/h
effective_ground_speeds = calculate_cruising_speed_with_wind(departure_coordinates, arrival_coordinates, api_key=api_key, cruising_speed=cruising_speed)

# Print effective ground speeds for each intermediate point
for i, speed in enumerate(effective_ground_speeds):
    print(f"Effective ground speed at intermediate point {i+1}: {speed} km/h")

